{
 "cells": [
  {
   "cell_type": "code",
   "execution_count": 9,
   "metadata": {},
   "outputs": [
    {
     "data": {
      "text/plain": [
       "['hi_raster_values_wc2.1_30s_bio_10_clipped.tif', 'hi_raster_values_wc2.1_30s_bio_11_clipped.tif', 'hi_raster_values_wc2.1_30s_bio_12_clipped.tif', 'hi_raster_values_wc2.1_30s_bio_13_clipped.tif', 'hi_raster_values_wc2.1_30s_bio_14_clipped.tif', 'hi_raster_values_wc2.1_30s_bio_15_clipped.tif', 'hi_raster_values_wc2.1_30s_bio_16_clipped.tif', 'hi_raster_values_wc2.1_30s_bio_17_clipped.tif', 'hi_raster_values_wc2.1_30s_bio_18_clipped.tif', 'hi_raster_values_wc2.1_30s_bio_19_clipped.tif', 'hi_raster_values_wc2.1_30s_bio_1_clipped.tif', 'hi_raster_values_wc2.1_30s_bio_2_clipped.tif', 'hi_raster_values_wc2.1_30s_bio_3_clipped.tif', 'hi_raster_values_wc2.1_30s_bio_4_clipped.tif', 'hi_raster_values_wc2.1_30s_bio_5_clipped.tif', 'hi_raster_values_wc2.1_30s_bio_6_clipped.tif', 'hi_raster_values_wc2.1_30s_bio_7_clipped.tif', 'hi_raster_values_wc2.1_30s_bio_8_clipped.tif', 'hi_raster_values_wc2.1_30s_bio_9_clipped.tif']"
      ]
     },
     "execution_count": 9,
     "metadata": {},
     "output_type": "execute_result"
    }
   ],
   "source": [
    "output_feature_classes\n"
   ]
  },
  {
   "cell_type": "code",
   "execution_count": 6,
   "metadata": {},
   "outputs": [
    {
     "data": {
      "text/plain": [
       "'C:\\\\Users\\\\hello\\\\OneDrive\\\\Documents\\\\ArcGIS\\\\Projects\\\\479FinalProjectExploration'"
      ]
     },
     "execution_count": 6,
     "metadata": {},
     "output_type": "execute_result"
    }
   ],
   "source": [
    "import os\n",
    "cd= 'C:\\\\Users\\\\hello\\\\OneDrive\\\\Documents\\\\ArcGIS\\\\Projects\\\\479FinalProjectExploration'\n",
    "PATH = cd\n",
    "PATH"
   ]
  },
  {
   "cell_type": "code",
   "execution_count": 7,
   "metadata": {},
   "outputs": [
    {
     "data": {
      "text/plain": [
       "'C:\\\\Users\\\\hello\\\\OneDrive\\\\Documents\\\\ArcGIS\\\\Projects\\\\479FinalProjectExploration\\\\479FinalProjectExploration.gdb'"
      ]
     },
     "execution_count": 7,
     "metadata": {},
     "output_type": "execute_result"
    }
   ],
   "source": [
    "\n",
    "# Requirements: Spatial Analyst Extension (arcpy.sa in the code below)\n",
    "\n",
    "# Import system modules\n",
    "import arcpy as ap\n",
    "from arcpy import env\n",
    "from arcpy.sa import * # By explicitly importing all of the spatial analyst extensions tools we don't need to prepend the module name.\n",
    "import pandas as pd\n",
    "import numpy as np\n",
    "import random #unsure what this is for, but doing so makes it work\n",
    "\n",
    "# Set environment settings\n",
    "env.workspace = PATH\n",
    "env.workspace\n",
    "env.overwriteOutput = True # We need to set this explicitly so that we can easily rerun the code if we change the parameters \n",
    "GDB = ap.ListWorkspaces(\"*\", \"FileGDB\")[0] # returns the geodatabase names and the full address.\n",
    "GDB # Make sure it is pointing to the right location"
   ]
  },
  {
   "cell_type": "code",
   "execution_count": null,
   "metadata": {},
   "outputs": [],
   "source": [
    "#clip fire layer by state boundaries\n",
    "boundary = \"boundary\"\n",
    "fire = \"C:\\Users\\hello\\OneDrive\\Documents\\ArcGIS\\Projects\\479FinalProjectExploration\\Fire_Feature_Data.gdb\\USGS_Wildland_Fire_Combined_DatasetUSGS_Wildland_Fire_Combined_Dataset\"\n",
    "output = \"fire_layer\"\n",
    "\n",
    "arcpy.Clip_analysis(fire, boundary, output)\n",
    "#then exclude fires from before 2000"
   ]
  },
  {
   "cell_type": "code",
   "execution_count": 8,
   "metadata": {},
   "outputs": [],
   "source": [
    "#clip bioclimatic rasters\n",
    "tif_files = arcpy.ListRasters(\"*.tif\")\n",
    "tif_files\n",
    "\n",
    "for tif_file in tif_files:\n",
    "    out_raster = tif_file[:-4] + \"_clipped.tif\"\n",
    "    arcpy.Clip_management(tif_file, \"#\", out_raster, \"boundary\")\n"
   ]
  },
  {
   "cell_type": "code",
   "execution_count": 8,
   "metadata": {
    "scrolled": true
   },
   "outputs": [
    {
     "name": "stdout",
     "output_type": "stream",
     "text": [
      "['wc2.1_30s_bio_10_clipped.tif', 'wc2.1_30s_bio_11_clipped.tif', 'wc2.1_30s_bio_12_clipped.tif', 'wc2.1_30s_bio_13_clipped.tif', 'wc2.1_30s_bio_14_clipped.tif', 'wc2.1_30s_bio_15_clipped.tif', 'wc2.1_30s_bio_16_clipped.tif', 'wc2.1_30s_bio_17_clipped.tif', 'wc2.1_30s_bio_18_clipped.tif', 'wc2.1_30s_bio_19_clipped.tif', 'wc2.1_30s_bio_1_clipped.tif', 'wc2.1_30s_bio_2_clipped.tif', 'wc2.1_30s_bio_3_clipped.tif', 'wc2.1_30s_bio_4_clipped.tif', 'wc2.1_30s_bio_5_clipped.tif', 'wc2.1_30s_bio_6_clipped.tif', 'wc2.1_30s_bio_7_clipped.tif', 'wc2.1_30s_bio_8_clipped.tif', 'wc2.1_30s_bio_9_clipped.tif']\n"
     ]
    }
   ],
   "source": [
    "#assign raster values to points\n",
    "#this is for layers that do not need to be processed further\n",
    "\n",
    "# Set the point layer and raster layers\n",
    "point_layer = \"randomPointsActual\"\n",
    "\n",
    "tif_files = arcpy.ListRasters(\"*.tif\")\n",
    "\n",
    "clipped_tif_files = []\n",
    "for tif_file in tif_files:\n",
    "    if \"_clipped\" in tif_file:\n",
    "        clipped_tif_files.append(tif_file)\n",
    "        \n",
    "raster_layers = clipped_tif_files\n",
    "print(raster_layers)\n",
    "\n",
    "# Create a list to store the output feature classes from the Extract Values to Points tool\n",
    "output_feature_classes = []\n",
    "\n",
    "# Loop through each raster layer\n",
    "for raster in raster_layers:\n",
    "    # Use the Extract Values to Points tool to extract values from the raster to the points\n",
    "    output_feature_class = \"hi_raster_values_\" + raster\n",
    "    arcpy.sa.ExtractValuesToPoints(point_layer, raster, output_feature_class)\n",
    "    output_feature_classes.append(output_feature_class)\n",
    "\n",
    "# Join the output feature classes to the point layer using the Spatial Join tool\n",
    "#arcpy.analysis.SpatialJoin(point_layer, output_feature_classes, \"points_with_raster_values.shp\", \"JOIN_ONE_TO_ONE\", \"KEEP_ALL\")\n",
    "\n",
    "    \n"
   ]
  },
  {
   "cell_type": "code",
   "execution_count": 12,
   "metadata": {},
   "outputs": [
    {
     "name": "stdout",
     "output_type": "stream",
     "text": [
      "bioclimatic\\hi_raster_values_wc2.1_30s_bio_10_clipped\n"
     ]
    },
    {
     "ename": "RuntimeError",
     "evalue": "Object: Error in executing tool",
     "output_type": "error",
     "traceback": [
      "\u001b[0;31m---------------------------------------------------------------------------\u001b[0m\n\u001b[0;31mRuntimeError\u001b[0m                              Traceback (most recent call last)",
      "In  \u001b[0;34m[12]\u001b[0m:\nLine \u001b[0;34m8\u001b[0m:     \u001b[36mprint\u001b[39;49;00m(output_featureswoot[\u001b[34m0\u001b[39;49;00m])\n",
      "File \u001b[0;34mC:\\Program Files\\ArcGIS\\Pro\\Resources\\ArcPy\\arcpy\\analysis.py\u001b[0m, in \u001b[0;32mSpatialJoin\u001b[0m:\nLine \u001b[0;34m793\u001b[0m:   \u001b[34mraise\u001b[39;49;00m e\n",
      "File \u001b[0;34mC:\\Program Files\\ArcGIS\\Pro\\Resources\\ArcPy\\arcpy\\analysis.py\u001b[0m, in \u001b[0;32mSpatialJoin\u001b[0m:\nLine \u001b[0;34m790\u001b[0m:   retval = convertArcObjectToPythonObject(gp.SpatialJoin_analysis(*gp_fixargs((target_features, join_features, out_feature_class, join_operation, join_type, field_mapping, match_option, search_radius, distance_field_name), \u001b[34mTrue\u001b[39;49;00m)))\n",
      "File \u001b[0;34mC:\\Program Files\\ArcGIS\\Pro\\Resources\\ArcPy\\arcpy\\geoprocessing\\_base.py\u001b[0m, in \u001b[0;32m<lambda>\u001b[0m:\nLine \u001b[0;34m512\u001b[0m:   \u001b[34mreturn\u001b[39;49;00m \u001b[34mlambda\u001b[39;49;00m *args: val(*gp_fixargs(args, \u001b[34mTrue\u001b[39;49;00m))\n",
      "\u001b[0;31mRuntimeError\u001b[0m: Object: Error in executing tool\n\u001b[0;31m---------------------------------------------------------------------------\u001b[0m"
     ]
    }
   ],
   "source": [
    "\n",
    "output_featureswoot= []\n",
    "\n",
    "for raster in output_feature_classes:\n",
    "    current = \"bioclimatic\\\\\"+ raster[:-4]\n",
    "    output_featureswoot.append(current)\n",
    "  \n",
    "print(output_featureswoot[0])\n",
    "arcpy.analysis.SpatialJoin(point_layer, output_featureswoot , \"JOIN_ONE_TO_ONE\", \"KEEP_ALL\")\n",
    "\n",
    "   "
   ]
  },
  {
   "cell_type": "code",
   "execution_count": 15,
   "metadata": {},
   "outputs": [
    {
     "name": "stdout",
     "output_type": "stream",
     "text": [
      "1\n",
      "1\n",
      "2\n",
      "2\n",
      "3\n",
      "3\n",
      "4\n",
      "4\n",
      "5\n",
      "5\n",
      "6\n",
      "6\n",
      "7\n",
      "7\n",
      "8\n",
      "8\n",
      "9\n",
      "9\n",
      "10\n",
      "10\n",
      "11\n",
      "11\n",
      "12\n",
      "12\n",
      "13\n",
      "13\n",
      "14\n",
      "14\n",
      "15\n",
      "15\n",
      "16\n",
      "16\n",
      "17\n",
      "17\n",
      "18\n",
      "18\n",
      "19\n",
      "19\n"
     ]
    }
   ],
   "source": [
    "for i in [\"1\", \"2\", \"3\", \"4\", \"5\", \"6\", \"7\", \"8\", \"9\", \"10\", \"11\", \"12\", \"13\", \"14\", \"15\", \"16\", \"17\", \"18\", \"19\"]:\n",
    "    # Set the input feature class and the target feature class\n",
    "    print(i)\n",
    "    input_fc = \"bioclimatic//hi_raster_values_wc2.1_30s_bio_\" +i+\"_clipped\"\n",
    "    target_fc = \"randomPointsActual\"\n",
    "\n",
    "    # Set the spatial join type\n",
    "    join_type = \"KEEP_COMMON\"\n",
    "\n",
    "    # Set the join operation\n",
    "    join_operation = \"JOIN_ONE_TO_ONE\"\n",
    "\n",
    "    # Set the join relationship\n",
    "    join_relationship = \"INTERSECT\"\n",
    "\n",
    "    # Perform the spatial join using the \"Add Spatial Join\" tool\n",
    "    arcpy.management.AddSpatialJoin(target_fc, input_fc, \"\", join_type, join_operation, join_relationship)\n",
    "    print(i)\n",
    "\n",
    "        "
   ]
  },
  {
   "cell_type": "code",
   "execution_count": 2,
   "metadata": {},
   "outputs": [],
   "source": [
    "#split points up into two layers based on whether or not they are in a fire area or not\n",
    "#do not do this. Binary fire presence is not the independent variable\n",
    "#I like the idea of doing fire density where the density is contributed to by all fires historically. ie the area of fire could concievably be higher than the area of the circle"
   ]
  },
  {
   "cell_type": "code",
   "execution_count": null,
   "metadata": {},
   "outputs": [],
   "source": [
    "#assign a new field to each layer with a binary fire status of 0 for no and 1 for yes"
   ]
  },
  {
   "cell_type": "code",
   "execution_count": null,
   "metadata": {},
   "outputs": [],
   "source": [
    "#choose bandwidth based on fire size average in polygons\n",
    "#create histograms and stuff\n",
    "#chosen see below"
   ]
  },
  {
   "cell_type": "code",
   "execution_count": 16,
   "metadata": {},
   "outputs": [
    {
     "ename": "ExecuteError",
     "evalue": "ERROR 000622: Failed to execute (Kernel Density). Parameters are not valid.\nERROR 000628: Cannot set input into parameter cell_size.\n",
     "output_type": "error",
     "traceback": [
      "\u001b[0;31m---------------------------------------------------------------------------\u001b[0m\n\u001b[0;31mExecuteError\u001b[0m                              Traceback (most recent call last)",
      "In  \u001b[0;34m[16]\u001b[0m:\nLine \u001b[0;34m25\u001b[0m:    arcpy.sa.KernelDensity(out_points, population_field, out_raster, cell_size, search_radius)\n",
      "File \u001b[0;34mC:\\Program Files\\ArcGIS\\Pro\\Resources\\ArcPy\\arcpy\\sa\\Functions.py\u001b[0m, in \u001b[0;32mKernelDensity\u001b[0m:\nLine \u001b[0;34m5688\u001b[0m:  \u001b[34mreturn\u001b[39;49;00m Wrapper(\n",
      "File \u001b[0;34mC:\\Program Files\\ArcGIS\\Pro\\Resources\\ArcPy\\arcpy\\sa\\Utils.py\u001b[0m, in \u001b[0;32mswapper\u001b[0m:\nLine \u001b[0;34m55\u001b[0m:    result = wrapper(*args, **kwargs)\n",
      "File \u001b[0;34mC:\\Program Files\\ArcGIS\\Pro\\Resources\\ArcPy\\arcpy\\sa\\Functions.py\u001b[0m, in \u001b[0;32mWrapper\u001b[0m:\nLine \u001b[0;34m5677\u001b[0m:  result = arcpy.gp.KernelDensity_sa(\n",
      "File \u001b[0;34mC:\\Program Files\\ArcGIS\\Pro\\Resources\\ArcPy\\arcpy\\geoprocessing\\_base.py\u001b[0m, in \u001b[0;32m<lambda>\u001b[0m:\nLine \u001b[0;34m512\u001b[0m:   \u001b[34mreturn\u001b[39;49;00m \u001b[34mlambda\u001b[39;49;00m *args: val(*gp_fixargs(args, \u001b[34mTrue\u001b[39;49;00m))\n",
      "\u001b[0;31mExecuteError\u001b[0m: ERROR 000622: Failed to execute (Kernel Density). Parameters are not valid.\nERROR 000628: Cannot set input into parameter cell_size.\n\n\u001b[0;31m---------------------------------------------------------------------------\u001b[0m"
     ]
    }
   ],
   "source": [
    "#make raster layer for area burned\n",
    "\n",
    "# Set the input polygon feature class\n",
    "in_polygons = \"fires\"\n",
    "\n",
    "# Set the output point feature class\n",
    "out_points = \"fires_points.shp\"\n",
    "\n",
    "# Convert the polygons to points\n",
    "arcpy.FeatureToPoint_management(in_polygons, out_points)\n",
    "\n",
    "# Set the output raster\n",
    "out_raster = \"fireDensity.tif\"\n",
    "\n",
    "# Set the cell size of the output raster\n",
    "cell_size = 30\n",
    "\n",
    "# Set the search radius for the kernel density calculation\n",
    "search_radius = \"500 Meters\"\n",
    "\n",
    "# Set the population field to be used in the kernel density calculation\n",
    "population_field = \"POPULATION_FIELD\"\n",
    "\n",
    "# Run the KernelDensity function\n",
    "arcpy.sa.KernelDensity(out_points, population_field, out_raster, cell_size, search_radius)\n",
    "\n",
    "# Save the output raster\n",
    "out_raster.save(\"fireDensity.tif\")\n"
   ]
  },
  {
   "cell_type": "code",
   "execution_count": 22,
   "metadata": {},
   "outputs": [
    {
     "ename": "ExecuteError",
     "evalue": "ERROR 000622: Failed to execute (Kernel Density). Parameters are not valid.\nERROR 000628: Cannot set input into parameter search_radius.\n",
     "output_type": "error",
     "traceback": [
      "\u001b[0;31m---------------------------------------------------------------------------\u001b[0m\n\u001b[0;31mExecuteError\u001b[0m                              Traceback (most recent call last)",
      "In  \u001b[0;34m[22]\u001b[0m:\nLine \u001b[0;34m8\u001b[0m:     arcpy.sa.KernelDensity(layer, population_field, \u001b[34m300\u001b[39;49;00m,out_raster, search_radius)\n",
      "File \u001b[0;34mC:\\Program Files\\ArcGIS\\Pro\\Resources\\ArcPy\\arcpy\\sa\\Functions.py\u001b[0m, in \u001b[0;32mKernelDensity\u001b[0m:\nLine \u001b[0;34m5688\u001b[0m:  \u001b[34mreturn\u001b[39;49;00m Wrapper(\n",
      "File \u001b[0;34mC:\\Program Files\\ArcGIS\\Pro\\Resources\\ArcPy\\arcpy\\sa\\Utils.py\u001b[0m, in \u001b[0;32mswapper\u001b[0m:\nLine \u001b[0;34m55\u001b[0m:    result = wrapper(*args, **kwargs)\n",
      "File \u001b[0;34mC:\\Program Files\\ArcGIS\\Pro\\Resources\\ArcPy\\arcpy\\sa\\Functions.py\u001b[0m, in \u001b[0;32mWrapper\u001b[0m:\nLine \u001b[0;34m5677\u001b[0m:  result = arcpy.gp.KernelDensity_sa(\n",
      "File \u001b[0;34mC:\\Program Files\\ArcGIS\\Pro\\Resources\\ArcPy\\arcpy\\geoprocessing\\_base.py\u001b[0m, in \u001b[0;32m<lambda>\u001b[0m:\nLine \u001b[0;34m512\u001b[0m:   \u001b[34mreturn\u001b[39;49;00m \u001b[34mlambda\u001b[39;49;00m *args: val(*gp_fixargs(args, \u001b[34mTrue\u001b[39;49;00m))\n",
      "\u001b[0;31mExecuteError\u001b[0m: ERROR 000622: Failed to execute (Kernel Density). Parameters are not valid.\nERROR 000628: Cannot set input into parameter search_radius.\n\n\u001b[0;31m---------------------------------------------------------------------------\u001b[0m"
     ]
    }
   ],
   "source": [
    "#KDE for roads and transmision lines\n",
    "search_radius = \"1000 Meters\"\n",
    "population_field = \"POPULATION_FIELD\"\n",
    "\n",
    "for layer in [\"fire\"]:#\"roads\", \"transmissionLines\"]:\n",
    "    out_raster = layer +\"Density.tif\"\n",
    "    # Run the KernelDensity function\n",
    "    arcpy.sa.KernelDensity(layer, population_field, 300,out_raster, search_radius)\n",
    "    # Save the output raster\n",
    "    out_raster.save(layer +\"Density.tif\")\n",
    "    \n",
    "\n"
   ]
  },
  {
   "cell_type": "code",
   "execution_count": null,
   "metadata": {},
   "outputs": [],
   "source": [
    "#mean layers\n",
    "\n",
    "# Import necessary modules\n",
    "import arcpy\n",
    "import numpy as np\n",
    "\n",
    "# Set the workspace\n",
    "arcpy.env.workspace = \"C:/workspace\"\n",
    "\n",
    "# Set the point layer and the raster layers\n",
    "point_layer = \"randomPointsActual.shp\"\n",
    "#fire density, roads, transmission lines \n",
    "raster_layers = [\"fireDensity\", \"roadDensity\", \"powerLineDensity.tif\"]\n",
    "\n",
    "# Set the radius for the circle\n",
    "r = 134 #CALCULATED BASED ON MEDIAN FIRE SIZE 1/2\n",
    "\n",
    "# Add fields to the attribute table of the point layer to store the mean values\n",
    "arcpy.AddFields_management(point_layer, [(\"fireDensity\", \"DOUBLE\"), (\"roadDensity\", \"DOUBLE\"), (\"powerLineDensity\", \"DOUBLE\")])\n",
    "\n",
    "# Loop through each point in the point layer\n",
    "with arcpy.da.UpdateCursor(point_layer, [\"SHAPE@XY\", \"mean1\", \"mean2\", \"mean3\"]) as cursor:\n",
    "    for point in cursor:\n",
    "        x, y = point[0]\n",
    "\n",
    "        # Create a circle around the point with radius \"r\" units\n",
    "        circle = arcpy.PointGeometry(arcpy.Point(x, y), arcpy.SpatialReference(4326)).buffer(r)\n",
    "\n",
    "        # Create an empty list to store the mean values for the current point\n",
    "        mean_values = []\n",
    "\n",
    "        # Loop through each raster layer\n",
    "        for raster in raster_layers:\n",
    "            # Extract the values within the circle for the current raster\n",
    "            result = arcpy.sa.ExtractByMask(raster, circle)\n",
    "\n",
    "            # Calculate the mean value for the extracted values\n",
    "            mean = np.mean(arcpy.RasterToNumPyArray(result))\n",
    "            # Normalize the mean value by dividing it by the maximum value in the raster\n",
    "            max_value = arcpy.GetRasterProperties_management(raster, \"MAXIMUM\").getOutput(0)\n",
    "            normalized_mean = mean / float(max_value)\n",
    "\n",
    "            # Add the normalized mean value to the list of mean values for the current point\n",
    "            mean_values.append(normalized_mean)\n",
    "\n",
    "        # Update the attribute table of the current point with the mean values\n",
    "        cursor.updateRow([x, y] + mean_values)\n",
    "\n",
    "# Print a message to confirm that the values have been added to the attribute table\n",
    "print(\"Values added to attribute table successfully.\")\n",
    "\n"
   ]
  },
  {
   "cell_type": "code",
   "execution_count": null,
   "metadata": {},
   "outputs": [],
   "source": [
    "#IGNORE THIS FOR NOW\n",
    "\n",
    "#these next few will calculate the features for points that are based on the surrounding area and not just the value at the point\n",
    "#use bandwidth from above then similar to above\n",
    "\n",
    "#input variables that need to be transformed\n",
    "#fires, roads, transmission lines, summary stats for vegetation\n",
    "\n",
    "\n",
    "#create output variables just for ease of use\n",
    "#independent variable\n",
    "burnDensity = \"\"\n",
    "\n",
    "#bioclimatic variables\n",
    "#properties of the surface\n",
    "roadDensity = \"\"\n",
    "tranmissionLineDensity = \"\"\n",
    "aspect = \"\"\n",
    "elevation = \"\"\n",
    "gradient = \"\"\n",
    "\n",
    "#other variables that might change in the future (conservative approach might assume no change)\n",
    "vegetationRisk = \"\"\n"
   ]
  },
  {
   "cell_type": "code",
   "execution_count": null,
   "metadata": {},
   "outputs": [],
   "source": []
  }
 ],
 "metadata": {
  "kernelspec": {
   "display_name": "ArcGISPro",
   "language": "Python",
   "name": "python3"
  },
  "language_info": {
   "file_extension": ".py",
   "name": "python",
   "version": "3"
  }
 },
 "nbformat": 4,
 "nbformat_minor": 2
}
