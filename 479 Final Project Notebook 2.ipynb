{
 "cells": [
  {
   "cell_type": "code",
   "execution_count": 1,
   "metadata": {},
   "outputs": [
    {
     "data": {
      "text/plain": [
       "'C:\\\\Users\\\\hello\\\\OneDrive\\\\Documents\\\\ArcGIS\\\\Projects\\\\wow'"
      ]
     },
     "execution_count": 1,
     "metadata": {},
     "output_type": "execute_result"
    }
   ],
   "source": [
    "import os\n",
    "cd= 'C:\\\\Users\\\\hello\\\\OneDrive\\\\Documents\\\\ArcGIS\\\\Projects\\\\wow'\n",
    "PATH = cd\n",
    "PATH"
   ]
  },
  {
   "cell_type": "code",
   "execution_count": 2,
   "metadata": {},
   "outputs": [
    {
     "data": {
      "text/plain": [
       "'C:\\\\Users\\\\hello\\\\OneDrive\\\\Documents\\\\ArcGIS\\\\Projects\\\\wow\\\\wow.gdb'"
      ]
     },
     "execution_count": 2,
     "metadata": {},
     "output_type": "execute_result"
    }
   ],
   "source": [
    "\n",
    "# Requirements: Spatial Analyst Extension (arcpy.sa in the code below)\n",
    "\n",
    "# Import system modules\n",
    "import arcpy as ap\n",
    "from arcpy import env\n",
    "from arcpy.sa import * # By explicitly importing all of the spatial analyst extensions tools we don't need to prepend the module name.\n",
    "import pandas as pd\n",
    "import numpy as np\n",
    "import random #unsure what this is for, but doing so makes it work\n",
    "\n",
    "# Set environment settings\n",
    "env.workspace = PATH\n",
    "env.workspace\n",
    "env.overwriteOutput = True # We need to set this explicitly so that we can easily rerun the code if we change the parameters \n",
    "GDB = ap.ListWorkspaces(\"*\", \"FileGDB\")[1] # returns the geodatabase names and the full address.\n",
    "GDB # Make sure it is pointing to the right location"
   ]
  },
  {
   "cell_type": "code",
   "execution_count": 5,
   "metadata": {},
   "outputs": [
    {
     "data": {
      "text/plain": [
       "'C:\\\\Users\\\\hello\\\\OneDrive\\\\Documents\\\\ArcGIS\\\\Projects\\\\wow'"
      ]
     },
     "execution_count": 5,
     "metadata": {},
     "output_type": "execute_result"
    }
   ],
   "source": [
    "env.workspace\n"
   ]
  },
  {
   "cell_type": "code",
   "execution_count": 9,
   "metadata": {},
   "outputs": [
    {
     "ename": "RuntimeError",
     "evalue": "A column was specified that does not exist.",
     "output_type": "error",
     "traceback": [
      "\u001b[0;31m---------------------------------------------------------------------------\u001b[0m\n\u001b[0;31mRuntimeError\u001b[0m                              Traceback (most recent call last)",
      "In  \u001b[0;34m[9]\u001b[0m:\nLine \u001b[0;34m14\u001b[0m:    \u001b[34mfor\u001b[39;49;00m row \u001b[35min\u001b[39;49;00m cursor:\n",
      "\u001b[0;31mRuntimeError\u001b[0m: A column was specified that does not exist.\n\u001b[0;31m---------------------------------------------------------------------------\u001b[0m"
     ]
    }
   ],
   "source": [
    "# Set the input point layer and the field to normalize\n",
    "input_layer = \"p\" #\"r\"\n",
    "field_to_normalize = \"sum shape_length\"\n",
    "\n",
    "# Create a new field to hold the normalized values\n",
    "new_field = \"lengthNorm\"\n",
    "arcpy.AddField_management(input_layer, new_field, \"DOUBLE\")\n",
    "\n",
    "# Get the min and max values of the field to normalize\n",
    "max_value = 18966.606292\n",
    "\n",
    "# Normalize the values and update the new field\n",
    "with arcpy.da.UpdateCursor(input_layer, [field_to_normalize, new_field]) as cursor:\n",
    "    for row in cursor:\n",
    "        print(row)\n",
    "        normalized_value = row[0] / max_value\n",
    "        row[1] = normalized_value\n",
    "        cursor.updateRow(row)"
   ]
  },
  {
   "cell_type": "code",
   "execution_count": 41,
   "metadata": {},
   "outputs": [
    {
     "name": "stdout",
     "output_type": "stream",
     "text": [
      "Temperate___Boreal_Grassland___Shrubland\n",
      "Developed___Urban\n",
      "Temperate___Boreal_Forest___Woodland\n",
      "Cool_Semi_Desert_Scrub___Grassland\n",
      "Warm_Desert___Semi_Desert_Woodland,_Scrub___Grassland\n",
      "Herbaceous_Agricultural_Vegetation\n",
      "Shrub___Herb_Wetland\n",
      "Open_Water\n",
      "Introduced___Semi_Natural_Vegetation\n",
      "Recently_Disturbed_or_Modified\n",
      "Temperate___Boreal_Open_Rock_Vegetation\n",
      "Barren\n",
      "Current_and_Historic_Mining_Activity\n",
      "Temperate_Alpine_to_Polar_Tundra\n"
     ]
    }
   ],
   "source": [
    "\n",
    "\n",
    "# Set the input point layer\n",
    "point_layer = \"points_6\"\n",
    "\n",
    "# Set the field containing the string values\n",
    "string_field = \"NVC_SUBCL\"\n",
    "\n",
    "# Create an empty list to store the unique values\n",
    "unique_values = []\n",
    "\n",
    "# Use the SearchCursor to loop through the rows in the point layer and add the values\n",
    "# of the string field to the list if they are not already in the list\n",
    "with arcpy.da.SearchCursor(point_layer, string_field) as cursor:\n",
    "    for row in cursor:\n",
    "        if row[0] not in unique_values and row[0] != None:\n",
    "            unique_values.append(row[0])\n",
    "            \n",
    "#replace with field name friendly characters:\n",
    "for i in range(0,14):\n",
    "    field_name = unique_values[i] \n",
    "    field_name =field_name.replace(' ', '_') \n",
    "    field_name =field_name.replace('&', '_')\n",
    "    field_name =field_name.replace('-', '_')\n",
    "    unique_values[i] =field_name\n",
    "        \n",
    "\n",
    "# Loop through the unique values and create a new field for each one\n",
    "\n",
    "for value in unique_values:\n",
    "    \n",
    "    if value != None:\n",
    "        print(value)\n",
    "        arcpy.AddField_management(point_layer, value, \"SHORT\")\n",
    "\n",
    "\n"
   ]
  },
  {
   "cell_type": "code",
   "execution_count": 44,
   "metadata": {},
   "outputs": [
    {
     "ename": "RuntimeError",
     "evalue": "A column was specified that does not exist.",
     "output_type": "error",
     "traceback": [
      "\u001b[0;31m---------------------------------------------------------------------------\u001b[0m\n\u001b[0;31mRuntimeError\u001b[0m                              Traceback (most recent call last)",
      "In  \u001b[0;34m[44]\u001b[0m:\nLine \u001b[0;34m5\u001b[0m:     \u001b[34mfor\u001b[39;49;00m row \u001b[35min\u001b[39;49;00m cursor:\n",
      "\u001b[0;31mRuntimeError\u001b[0m: A column was specified that does not exist.\n\u001b[0;31m---------------------------------------------------------------------------\u001b[0m"
     ]
    }
   ],
   "source": [
    "# Use the UpdateCursor to loop through the rows in the point layer and assign\n",
    "# the appropriate value (1 or 0) to the new fields\n",
    "unique_values[5]=\"Warm_Desert___Semi_Desert_Woodland__Scrub___Grassland\"\n",
    "with arcpy.da.UpdateCursor(point_layer, unique_values) as cursor:\n",
    "    for row in cursor:\n",
    "        for i, value in enumerate(unique_values):\n",
    "            if row[-1] == value:\n",
    "                row[i] = 1\n",
    "            else:\n",
    "                row[i] = 0\n",
    "        cursor.updateRow(row)\n"
   ]
  },
  {
   "cell_type": "code",
   "execution_count": 22,
   "metadata": {},
   "outputs": [
    {
     "data": {
      "text/plain": [
       "['Temperate & Boreal Grassland & Shrubland', 'Developed & Urban', 'Temperate & Boreal Forest & Woodland', 'Cool Semi-Desert Scrub & Grassland', 'Warm Desert & Semi-Desert Woodland, Scrub & Grassland', 'Herbaceous Agricultural Vegetation', 'Shrub & Herb Wetland', 'Open Water', 'Introduced & Semi Natural Vegetation', 'Recently Disturbed or Modified', 'Temperate & Boreal Open Rock Vegetation', 'Barren', 'Current and Historic Mining Activity', 'Temperate Alpine to Polar Tundra']"
      ]
     },
     "execution_count": 22,
     "metadata": {},
     "output_type": "execute_result"
    }
   ],
   "source": [
    "unique_values"
   ]
  },
  {
   "cell_type": "code",
   "execution_count": 25,
   "metadata": {},
   "outputs": [],
   "source": [
    "unique_values2 = ['Temperate___Boreal_Grassland___Shrubland', 'Developed___Urban', 'Temperate___Boreal_Forest___Woodland', 'Cool_Semi_Desert_Scrub___Grassland', 'Warm_Desert___Semi_Desert_Woodland__Scrub___Grassland', 'Herbaceous_Agricultural_Vegetation', 'Shrub___Herb_Wetland', 'Open_Water', 'Introduced___Semi_Natural_Vegetation', 'Recently_Disturbed_or_Modified', 'Temperate___Boreal_Open_Rock_Vegetation', 'Barren', 'Current_and_Historic_Mining_Activity', 'Temperate_Alpine_to_Polar_Tundra']"
   ]
  },
  {
   "cell_type": "code",
   "execution_count": 35,
   "metadata": {},
   "outputs": [
    {
     "data": {
      "text/plain": [
       "['Barren']"
      ]
     },
     "execution_count": 35,
     "metadata": {},
     "output_type": "execute_result"
    }
   ],
   "source": [
    "unique_values"
   ]
  },
  {
   "cell_type": "code",
   "execution_count": 40,
   "metadata": {},
   "outputs": [
    {
     "name": "stdout",
     "output_type": "stream",
     "text": [
      "Temperate_&_Boreal_Grassland_&_Shrubland\n"
     ]
    }
   ],
   "source": [
    "print(unique_values[0].replace(' ', '_'))"
   ]
  },
  {
   "cell_type": "code",
   "execution_count": null,
   "metadata": {},
   "outputs": [],
   "source": []
  }
 ],
 "metadata": {
  "kernelspec": {
   "display_name": "ArcGISPro",
   "language": "Python",
   "name": "python3"
  },
  "language_info": {
   "file_extension": ".py",
   "name": "python",
   "version": "3"
  }
 },
 "nbformat": 4,
 "nbformat_minor": 2
}
